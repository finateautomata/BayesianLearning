{
 "cells": [
  {
   "cell_type": "markdown",
   "metadata": {},
   "source": [
    "# Assignment 1"
   ]
  },
  {
   "cell_type": "markdown",
   "metadata": {},
   "source": [
    "#### Due: 4/19/2021"
   ]
  },
  {
   "cell_type": "markdown",
   "metadata": {},
   "source": [
    "<img align=\"right\" width=\"400\" height=\"200\" src=\"among_us.png\">\n",
    "\n",
    "The file `data.csv` contains data on wins for 1,500 different players for the computer game Among Us. A win is indicated as y=1, otherwise y=0. The player index is the second column (\"player\"). Some players have played many games - others have played fewer games. For example, the first player has played 24 games (and won 12), whereas player 3 has played 35 games (and won 18). In this assignment you are asked to try to make statements about each of the 1,500 players abilities. \n",
    "\n",
    "Assume for simplicity that each player's ability is fixed (so there is no learning), and that player $i$'s  win probability is only a function of player $i$'s ability. We will define ability on the logit scale so that player $i$'s win probability in game $j$ is "
   ]
  },
  {
   "cell_type": "markdown",
   "metadata": {},
   "source": [
    "$$\n",
    "{\\rm Pr}(Y_{ij}=1|\\alpha_i) = \\frac{ \\exp(\\alpha_i)}{ 1.0 + \\exp(\\alpha_i)}, \\qquad j=1,\\dots,N_i.\n",
    "$$"
   ]
  },
  {
   "cell_type": "markdown",
   "metadata": {},
   "source": [
    "Note 1: This is synthetic (i.e., simulated) data - so in this case we know each player’s actual latent ability.\n",
    "\n",
    "Note 2: You can use any software you wish to solve this assignment (Python, R, Julia, Excel (just kidding - please don’t use Excel….) )"
   ]
  },
  {
   "cell_type": "code",
   "execution_count": 1,
   "metadata": {},
   "outputs": [
    {
     "ename": "ModuleNotFoundError",
     "evalue": "No module named 'stan'",
     "output_type": "error",
     "traceback": [
      "\u001b[0;31m---------------------------------------------------------------------------\u001b[0m",
      "\u001b[0;31mModuleNotFoundError\u001b[0m                       Traceback (most recent call last)",
      "\u001b[1;32m/Users/feiteng/Library/Mobile Documents/com~apple~CloudDocs/UCSD MFin/2022 Spring/Bayesian Learning/Assignment/assignment1/assignment1.ipynb Cell 6'\u001b[0m in \u001b[0;36m<module>\u001b[0;34m\u001b[0m\n\u001b[1;32m      <a href='vscode-notebook-cell:/Users/feiteng/Library/Mobile%20Documents/com~apple~CloudDocs/UCSD%20MFin/2022%20Spring/Bayesian%20Learning/Assignment/assignment1/assignment1.ipynb#ch0000005?line=1'>2</a>\u001b[0m \u001b[39mimport\u001b[39;00m \u001b[39mpandas\u001b[39;00m \u001b[39mas\u001b[39;00m \u001b[39mpd\u001b[39;00m\n\u001b[1;32m      <a href='vscode-notebook-cell:/Users/feiteng/Library/Mobile%20Documents/com~apple~CloudDocs/UCSD%20MFin/2022%20Spring/Bayesian%20Learning/Assignment/assignment1/assignment1.ipynb#ch0000005?line=2'>3</a>\u001b[0m \u001b[39mimport\u001b[39;00m \u001b[39mmatplotlib\u001b[39;00m\u001b[39m.\u001b[39;00m\u001b[39mpyplot\u001b[39;00m \u001b[39mas\u001b[39;00m \u001b[39mplt\u001b[39;00m\n\u001b[0;32m----> <a href='vscode-notebook-cell:/Users/feiteng/Library/Mobile%20Documents/com~apple~CloudDocs/UCSD%20MFin/2022%20Spring/Bayesian%20Learning/Assignment/assignment1/assignment1.ipynb#ch0000005?line=3'>4</a>\u001b[0m \u001b[39mimport\u001b[39;00m \u001b[39mstan\u001b[39;00m\n",
      "\u001b[0;31mModuleNotFoundError\u001b[0m: No module named 'stan'"
     ]
    }
   ],
   "source": [
    "import numpy as np\n",
    "import pandas as pd\n",
    "import matplotlib.pyplot as plt\n",
    "import stan"
   ]
  },
  {
   "cell_type": "markdown",
   "metadata": {},
   "source": [
    "## Question 1"
   ]
  },
  {
   "cell_type": "markdown",
   "metadata": {},
   "source": [
    "Let's start by using a simple **ad-hoc** estimate of each player's ability. Let $\\bar y_i \\in [0,1]$ be player $i$'s observed win ratio (e.g., 0.21). Then a simple estimate of player $i$'s ability is the $\\hat \\alpha_i$ that solves "
   ]
  },
  {
   "cell_type": "markdown",
   "metadata": {},
   "source": [
    "$$\n",
    "\\bar y_i = \\frac{ \\exp(\\hat \\alpha_i)}{ 1.0 + \\exp(\\hat \\alpha_i)}\n",
    "$$"
   ]
  },
  {
   "cell_type": "markdown",
   "metadata": {},
   "source": [
    "Using this estimate, find the top 10 worst players and their estimated ability."
   ]
  },
  {
   "cell_type": "code",
   "execution_count": 3,
   "metadata": {},
   "outputs": [],
   "source": [
    "#Code Here\n",
    "dat = pd.read_csv('data.csv')"
   ]
  },
  {
   "cell_type": "code",
   "execution_count": 4,
   "metadata": {},
   "outputs": [
    {
     "name": "stderr",
     "output_type": "stream",
     "text": [
      "/var/folders/hn/l61q_f8s7nlgg9ybvy7tmlx40000gn/T/ipykernel_66786/1266944420.py:5: RuntimeWarning: divide by zero encountered in double_scalars\n",
      "  alphaEst = np.log(yBar / (1 - yBar))\n"
     ]
    },
    {
     "data": {
      "text/html": [
       "<div>\n",
       "<style scoped>\n",
       "    .dataframe tbody tr th:only-of-type {\n",
       "        vertical-align: middle;\n",
       "    }\n",
       "\n",
       "    .dataframe tbody tr th {\n",
       "        vertical-align: top;\n",
       "    }\n",
       "\n",
       "    .dataframe thead th {\n",
       "        text-align: right;\n",
       "    }\n",
       "</style>\n",
       "<table border=\"1\" class=\"dataframe\">\n",
       "  <thead>\n",
       "    <tr style=\"text-align: right;\">\n",
       "      <th></th>\n",
       "      <th>estimated alpha</th>\n",
       "    </tr>\n",
       "  </thead>\n",
       "  <tbody>\n",
       "    <tr>\n",
       "      <th>1</th>\n",
       "      <td>0.000000</td>\n",
       "    </tr>\n",
       "    <tr>\n",
       "      <th>2</th>\n",
       "      <td>-0.182322</td>\n",
       "    </tr>\n",
       "    <tr>\n",
       "      <th>3</th>\n",
       "      <td>0.057158</td>\n",
       "    </tr>\n",
       "    <tr>\n",
       "      <th>4</th>\n",
       "      <td>0.998529</td>\n",
       "    </tr>\n",
       "    <tr>\n",
       "      <th>5</th>\n",
       "      <td>-0.405465</td>\n",
       "    </tr>\n",
       "    <tr>\n",
       "      <th>...</th>\n",
       "      <td>...</td>\n",
       "    </tr>\n",
       "    <tr>\n",
       "      <th>1496</th>\n",
       "      <td>-0.587787</td>\n",
       "    </tr>\n",
       "    <tr>\n",
       "      <th>1497</th>\n",
       "      <td>-0.693147</td>\n",
       "    </tr>\n",
       "    <tr>\n",
       "      <th>1498</th>\n",
       "      <td>-0.287682</td>\n",
       "    </tr>\n",
       "    <tr>\n",
       "      <th>1499</th>\n",
       "      <td>0.773190</td>\n",
       "    </tr>\n",
       "    <tr>\n",
       "      <th>1500</th>\n",
       "      <td>0.356675</td>\n",
       "    </tr>\n",
       "  </tbody>\n",
       "</table>\n",
       "<p>1500 rows × 1 columns</p>\n",
       "</div>"
      ],
      "text/plain": [
       "      estimated alpha\n",
       "1            0.000000\n",
       "2           -0.182322\n",
       "3            0.057158\n",
       "4            0.998529\n",
       "5           -0.405465\n",
       "...               ...\n",
       "1496        -0.587787\n",
       "1497        -0.693147\n",
       "1498        -0.287682\n",
       "1499         0.773190\n",
       "1500         0.356675\n",
       "\n",
       "[1500 rows x 1 columns]"
      ]
     },
     "execution_count": 4,
     "metadata": {},
     "output_type": "execute_result"
    }
   ],
   "source": [
    "temp_list = []\n",
    "for i in range(1, 1501):\n",
    "\n",
    "    yBar = np.mean(dat[dat['player'] == i].y)\n",
    "    alphaEst = np.log(yBar / (1 - yBar))\n",
    "    temp_list.append(alphaEst)\n",
    "\n",
    "# res is the dataframe collects all the estimated alpha\n",
    "res_Q1 = pd.DataFrame(temp_list, columns=['estimated alpha'])\n",
    "res_Q1.index += 1\n",
    "res_Q1\n"
   ]
  },
  {
   "cell_type": "code",
   "execution_count": 5,
   "metadata": {},
   "outputs": [
    {
     "data": {
      "text/html": [
       "<div>\n",
       "<style scoped>\n",
       "    .dataframe tbody tr th:only-of-type {\n",
       "        vertical-align: middle;\n",
       "    }\n",
       "\n",
       "    .dataframe tbody tr th {\n",
       "        vertical-align: top;\n",
       "    }\n",
       "\n",
       "    .dataframe thead th {\n",
       "        text-align: right;\n",
       "    }\n",
       "</style>\n",
       "<table border=\"1\" class=\"dataframe\">\n",
       "  <thead>\n",
       "    <tr style=\"text-align: right;\">\n",
       "      <th></th>\n",
       "      <th>estimated alpha</th>\n",
       "    </tr>\n",
       "  </thead>\n",
       "  <tbody>\n",
       "    <tr>\n",
       "      <th>1161</th>\n",
       "      <td>-2.833213</td>\n",
       "    </tr>\n",
       "    <tr>\n",
       "      <th>1275</th>\n",
       "      <td>-2.268684</td>\n",
       "    </tr>\n",
       "    <tr>\n",
       "      <th>1015</th>\n",
       "      <td>-2.036882</td>\n",
       "    </tr>\n",
       "    <tr>\n",
       "      <th>817</th>\n",
       "      <td>-2.014903</td>\n",
       "    </tr>\n",
       "    <tr>\n",
       "      <th>1177</th>\n",
       "      <td>-2.014903</td>\n",
       "    </tr>\n",
       "    <tr>\n",
       "      <th>1302</th>\n",
       "      <td>-1.897120</td>\n",
       "    </tr>\n",
       "    <tr>\n",
       "      <th>1337</th>\n",
       "      <td>-1.860752</td>\n",
       "    </tr>\n",
       "    <tr>\n",
       "      <th>145</th>\n",
       "      <td>-1.791759</td>\n",
       "    </tr>\n",
       "    <tr>\n",
       "      <th>782</th>\n",
       "      <td>-1.722767</td>\n",
       "    </tr>\n",
       "    <tr>\n",
       "      <th>226</th>\n",
       "      <td>-1.686399</td>\n",
       "    </tr>\n",
       "  </tbody>\n",
       "</table>\n",
       "</div>"
      ],
      "text/plain": [
       "      estimated alpha\n",
       "1161        -2.833213\n",
       "1275        -2.268684\n",
       "1015        -2.036882\n",
       "817         -2.014903\n",
       "1177        -2.014903\n",
       "1302        -1.897120\n",
       "1337        -1.860752\n",
       "145         -1.791759\n",
       "782         -1.722767\n",
       "226         -1.686399"
      ]
     },
     "execution_count": 5,
     "metadata": {},
     "output_type": "execute_result"
    }
   ],
   "source": [
    "# find the worst 10: player has lowest yBar therefore estimated alpha approaches -inf\n",
    "res_Q1.nsmallest(10, 'estimated alpha')"
   ]
  },
  {
   "cell_type": "markdown",
   "metadata": {},
   "source": [
    "## Question 2"
   ]
  },
  {
   "cell_type": "markdown",
   "metadata": {},
   "source": [
    "Can you think of a potential problem with the $\\hat \\alpha_i$ estimate above? (Hint: try to look at the top 10 **best** players rather than the top 10 worst)"
   ]
  },
  {
   "cell_type": "code",
   "execution_count": 6,
   "metadata": {},
   "outputs": [
    {
     "data": {
      "text/html": [
       "<div>\n",
       "<style scoped>\n",
       "    .dataframe tbody tr th:only-of-type {\n",
       "        vertical-align: middle;\n",
       "    }\n",
       "\n",
       "    .dataframe tbody tr th {\n",
       "        vertical-align: top;\n",
       "    }\n",
       "\n",
       "    .dataframe thead th {\n",
       "        text-align: right;\n",
       "    }\n",
       "</style>\n",
       "<table border=\"1\" class=\"dataframe\">\n",
       "  <thead>\n",
       "    <tr style=\"text-align: right;\">\n",
       "      <th></th>\n",
       "      <th>estimated alpha</th>\n",
       "    </tr>\n",
       "  </thead>\n",
       "  <tbody>\n",
       "    <tr>\n",
       "      <th>499</th>\n",
       "      <td>inf</td>\n",
       "    </tr>\n",
       "    <tr>\n",
       "      <th>698</th>\n",
       "      <td>2.708050</td>\n",
       "    </tr>\n",
       "    <tr>\n",
       "      <th>541</th>\n",
       "      <td>2.100061</td>\n",
       "    </tr>\n",
       "    <tr>\n",
       "      <th>512</th>\n",
       "      <td>2.079442</td>\n",
       "    </tr>\n",
       "    <tr>\n",
       "      <th>415</th>\n",
       "      <td>2.014903</td>\n",
       "    </tr>\n",
       "    <tr>\n",
       "      <th>594</th>\n",
       "      <td>2.014903</td>\n",
       "    </tr>\n",
       "    <tr>\n",
       "      <th>37</th>\n",
       "      <td>1.992430</td>\n",
       "    </tr>\n",
       "    <tr>\n",
       "      <th>1026</th>\n",
       "      <td>1.909543</td>\n",
       "    </tr>\n",
       "    <tr>\n",
       "      <th>1385</th>\n",
       "      <td>1.871802</td>\n",
       "    </tr>\n",
       "    <tr>\n",
       "      <th>63</th>\n",
       "      <td>1.791759</td>\n",
       "    </tr>\n",
       "  </tbody>\n",
       "</table>\n",
       "</div>"
      ],
      "text/plain": [
       "      estimated alpha\n",
       "499               inf\n",
       "698          2.708050\n",
       "541          2.100061\n",
       "512          2.079442\n",
       "415          2.014903\n",
       "594          2.014903\n",
       "37           1.992430\n",
       "1026         1.909543\n",
       "1385         1.871802\n",
       "63           1.791759"
      ]
     },
     "execution_count": 6,
     "metadata": {},
     "output_type": "execute_result"
    }
   ],
   "source": [
    "#Code Here\n",
    "\n",
    "# find the best 10: player has lowest yBar therefore estimated alpha approaches inf\n",
    "res_Q1.nlargest(10, 'estimated alpha')\n"
   ]
  },
  {
   "cell_type": "code",
   "execution_count": 7,
   "metadata": {},
   "outputs": [],
   "source": [
    "#Explanation Here\n",
    "\n",
    "# We found the estimated alpha for No. 499 player is inf, which means that this player wins all game. \n",
    "# And therfore in this model, we would consider this player will continue playing like this. "
   ]
  },
  {
   "cell_type": "markdown",
   "metadata": {},
   "source": [
    "## Question 3"
   ]
  },
  {
   "cell_type": "markdown",
   "metadata": {},
   "source": [
    "Since this is synthetic data, we can compare the estimates in Question 1 to the true correct abilities $\\lbrace \\alpha_i \\rbrace_{i=1}^{1500}$. These can be found in the file `parameters.csv`."
   ]
  },
  {
   "cell_type": "markdown",
   "metadata": {},
   "source": [
    "### A"
   ]
  },
  {
   "cell_type": "markdown",
   "metadata": {},
   "source": [
    "Create a scatter plot with the true abilities $\\alpha_i$ on the x-axis and the estimated abilities $\\hat \\alpha_i$ on the y-axis. (Note: You can just drop the estimate for player 499). What would you say about these estimates? Do they track the true abilities well?"
   ]
  },
  {
   "cell_type": "code",
   "execution_count": 8,
   "metadata": {},
   "outputs": [
    {
     "data": {
      "image/png": "[encoded data removed]",
      "text/plain": [
       "<Figure size 432x288 with 1 Axes>"
      ]
     },
     "metadata": {
      "needs_background": "light"
     },
     "output_type": "display_data"
    }
   ],
   "source": [
    "#Code Here\n",
    "true_alpha = pd.read_csv('parameters.csv')\n",
    "true_alpha.index += 1\n",
    "true_alpha\n",
    "\n",
    "x = true_alpha['alpha']\n",
    "y = res_Q1['estimated alpha']\n",
    "plt.scatter(x, y, s=1)\n",
    "plt.show()"
   ]
  },
  {
   "cell_type": "code",
   "execution_count": 9,
   "metadata": {},
   "outputs": [],
   "source": [
    "#Explanation Here\n",
    "\n",
    "# As we can see, x and y are correlated. But there're also errors."
   ]
  },
  {
   "cell_type": "markdown",
   "metadata": {},
   "source": [
    "### B"
   ]
  },
  {
   "cell_type": "markdown",
   "metadata": {},
   "source": [
    "Now divide all players into four groups depending on the number of games they have played: (1) <= 15 games, (2) 16 to 25 games, (3) 26 to 40 games and (4) more than 40 games.\n",
    "\n",
    "Now redo the scatter plot above but ONLY for players in the lowest group (<= 15 games) and the highest group (more than 40 games). Indicate which group a player belongs to by two colors so you can separate them on the scatter plot. \n",
    "\n",
    "Which of the two groups have the smallest prediction errors?"
   ]
  },
  {
   "cell_type": "code",
   "execution_count": 10,
   "metadata": {},
   "outputs": [
    {
     "data": {
      "text/html": [
       "<div>\n",
       "<style scoped>\n",
       "    .dataframe tbody tr th:only-of-type {\n",
       "        vertical-align: middle;\n",
       "    }\n",
       "\n",
       "    .dataframe tbody tr th {\n",
       "        vertical-align: top;\n",
       "    }\n",
       "\n",
       "    .dataframe thead th {\n",
       "        text-align: right;\n",
       "    }\n",
       "</style>\n",
       "<table border=\"1\" class=\"dataframe\">\n",
       "  <thead>\n",
       "    <tr style=\"text-align: right;\">\n",
       "      <th></th>\n",
       "      <th>numOfGames</th>\n",
       "    </tr>\n",
       "  </thead>\n",
       "  <tbody>\n",
       "    <tr>\n",
       "      <th>1</th>\n",
       "      <td>24</td>\n",
       "    </tr>\n",
       "    <tr>\n",
       "      <th>2</th>\n",
       "      <td>22</td>\n",
       "    </tr>\n",
       "    <tr>\n",
       "      <th>3</th>\n",
       "      <td>35</td>\n",
       "    </tr>\n",
       "    <tr>\n",
       "      <th>4</th>\n",
       "      <td>26</td>\n",
       "    </tr>\n",
       "    <tr>\n",
       "      <th>5</th>\n",
       "      <td>15</td>\n",
       "    </tr>\n",
       "    <tr>\n",
       "      <th>...</th>\n",
       "      <td>...</td>\n",
       "    </tr>\n",
       "    <tr>\n",
       "      <th>1496</th>\n",
       "      <td>14</td>\n",
       "    </tr>\n",
       "    <tr>\n",
       "      <th>1497</th>\n",
       "      <td>15</td>\n",
       "    </tr>\n",
       "    <tr>\n",
       "      <th>1498</th>\n",
       "      <td>35</td>\n",
       "    </tr>\n",
       "    <tr>\n",
       "      <th>1499</th>\n",
       "      <td>19</td>\n",
       "    </tr>\n",
       "    <tr>\n",
       "      <th>1500</th>\n",
       "      <td>17</td>\n",
       "    </tr>\n",
       "  </tbody>\n",
       "</table>\n",
       "<p>1500 rows × 1 columns</p>\n",
       "</div>"
      ],
      "text/plain": [
       "      numOfGames\n",
       "1             24\n",
       "2             22\n",
       "3             35\n",
       "4             26\n",
       "5             15\n",
       "...          ...\n",
       "1496          14\n",
       "1497          15\n",
       "1498          35\n",
       "1499          19\n",
       "1500          17\n",
       "\n",
       "[1500 rows x 1 columns]"
      ]
     },
     "execution_count": 10,
     "metadata": {},
     "output_type": "execute_result"
    }
   ],
   "source": [
    "#Code Here\n",
    "\n",
    "temp_list = [] # records the number of games played by one person \n",
    "for i in range(1, 1501):\n",
    "\n",
    "    cnt = dat[dat['player'] == i].count()[0]\n",
    "    # print(cnt)\n",
    "    temp_list.append(cnt)\n",
    "\n",
    "# res is the dataframe collects all the estimated alpha\n",
    "res_Q3B = pd.DataFrame(temp_list, columns=['numOfGames'])\n",
    "res_Q3B.index += 1\n",
    "res_Q3B"
   ]
  },
  {
   "cell_type": "code",
   "execution_count": 11,
   "metadata": {},
   "outputs": [
    {
     "data": {
      "image/png": "[encoded data removed]",
      "text/plain": [
       "<Figure size 432x288 with 1 Axes>"
      ]
     },
     "metadata": {
      "needs_background": "light"
     },
     "output_type": "display_data"
    }
   ],
   "source": [
    "lowestGrp = res_Q3B[res_Q3B['numOfGames'] <= 15]\n",
    "higestGrp = res_Q3B[res_Q3B['numOfGames'] > 40]\n",
    "\n",
    "lowestGrpTrueAlpha = true_alpha.iloc[lowestGrp.index - 1]['alpha']\n",
    "higestGrpTrueAlpha = true_alpha.iloc[higestGrp.index - 1]['alpha']\n",
    "\n",
    "lowestGrpEstAlpha = res_Q1.iloc[lowestGrp.index - 1]['estimated alpha']\n",
    "higestGrpEstAlpha = res_Q1.iloc[higestGrp.index - 1]['estimated alpha']\n",
    "\n",
    "\n",
    "fig = plt.figure()\n",
    "ax1 = fig.add_subplot(111)\n",
    "ax1.scatter(lowestGrpTrueAlpha, lowestGrpEstAlpha, s=10, c='b', marker=\"s\", label='lowest')\n",
    "ax1.scatter(higestGrpTrueAlpha, higestGrpEstAlpha, s=10, c='r', marker=\"o\", label='highest')\n",
    "plt.legend(loc='upper left')\n",
    "plt.show()"
   ]
  },
  {
   "cell_type": "code",
   "execution_count": 12,
   "metadata": {},
   "outputs": [],
   "source": [
    "#Explanation Here\n",
    "\n",
    "# It's very clear that the lowest-game-played group has larger error."
   ]
  },
  {
   "cell_type": "markdown",
   "metadata": {},
   "source": [
    "### C"
   ]
  },
  {
   "cell_type": "markdown",
   "metadata": {},
   "source": [
    "Define root mean square error (RMSE) as\n",
    "\n",
    "$$\n",
    "{\\rm RMSE}(\\hat \\alpha) = \\sqrt{ \\frac{1}{N} \\sum_{i=1}^N (\\hat \\alpha_i - \\alpha_i )^2 }\n",
    "$$"
   ]
  },
  {
   "cell_type": "markdown",
   "metadata": {},
   "source": [
    "(1) Calculate the overall RMSE (for all players - except player 499) and (2) Calculate RMSE for each of the four observation groups (making sure to normalize by the correct group size)"
   ]
  },
  {
   "cell_type": "code",
   "execution_count": 13,
   "metadata": {},
   "outputs": [
    {
     "data": {
      "text/plain": [
       "0.42173176376516364"
      ]
     },
     "execution_count": 13,
     "metadata": {},
     "output_type": "execute_result"
    }
   ],
   "source": [
    "#Code Here\n",
    "\n",
    "allTrueAlpha = true_alpha['alpha'].drop([499])\n",
    "allEstAlpha = res_Q1['estimated alpha'].drop([499])\n",
    "\n",
    "allRMSE = np.sqrt((1 / allEstAlpha.count()) * np.sum((allEstAlpha - allTrueAlpha)**2))\n",
    "allRMSE"
   ]
  },
  {
   "cell_type": "code",
   "execution_count": 14,
   "metadata": {},
   "outputs": [
    {
     "data": {
      "text/plain": [
       "0.4743288343103642"
      ]
     },
     "execution_count": 14,
     "metadata": {},
     "output_type": "execute_result"
    }
   ],
   "source": [
    "# (1) <= 15 games, (2) 16 to 25 games, (3) 26 to 40 games and (4) more than 40 games\n",
    "\n",
    "# I think 499 is in group 1 so only drop 499 here.\n",
    "Grp1 = res_Q3B[res_Q3B['numOfGames'] <= 15]\n",
    "Grp1TrueAlpha = true_alpha.drop([499]).iloc[Grp1.index - 1]['alpha']\n",
    "Grp1EstAlpha = res_Q1.drop([499]).iloc[Grp1.index - 1]['estimated alpha']\n",
    "Grp1RMSE = np.sqrt((1 / Grp1EstAlpha.count()) * np.sum((Grp1EstAlpha - Grp1TrueAlpha)**2))\n",
    "Grp1RMSE"
   ]
  },
  {
   "cell_type": "code",
   "execution_count": 17,
   "metadata": {},
   "outputs": [
    {
     "data": {
      "text/plain": [
       "0.46999101665794724"
      ]
     },
     "execution_count": 17,
     "metadata": {},
     "output_type": "execute_result"
    }
   ],
   "source": [
    "#Code Here\n",
    "\n",
    "Grp2 = res_Q3B[(res_Q3B['numOfGames'] >= 16) & (res_Q3B['numOfGames'] <= 25)]\n",
    "Grp2TrueAlpha = true_alpha.iloc[Grp2.index - 1]['alpha']\n",
    "Grp2EstAlpha = res_Q1.iloc[Grp2.index - 1]['estimated alpha']\n",
    "Grp2RMSE = np.sqrt((1 / Grp2EstAlpha.count()) * np.sum((Grp2EstAlpha - Grp2TrueAlpha)**2))\n",
    "Grp2RMSE"
   ]
  },
  {
   "cell_type": "code",
   "execution_count": 18,
   "metadata": {},
   "outputs": [
    {
     "data": {
      "text/plain": [
       "0.39737490330821795"
      ]
     },
     "execution_count": 18,
     "metadata": {},
     "output_type": "execute_result"
    }
   ],
   "source": [
    "Grp3 = res_Q3B[(res_Q3B['numOfGames'] >= 26) & (res_Q3B['numOfGames'] <= 40)]\n",
    "Grp3TrueAlpha = true_alpha.iloc[Grp3.index - 1]['alpha']\n",
    "Grp3EstAlpha = res_Q1.iloc[Grp3.index - 1]['estimated alpha']\n",
    "Grp3RMSE = np.sqrt((1 / Grp3EstAlpha.count()) * np.sum((Grp3EstAlpha - Grp3TrueAlpha)**2))\n",
    "Grp3RMSE\n"
   ]
  },
  {
   "cell_type": "code",
   "execution_count": 19,
   "metadata": {},
   "outputs": [
    {
     "data": {
      "text/plain": [
       "0.30363266029854524"
      ]
     },
     "execution_count": 19,
     "metadata": {},
     "output_type": "execute_result"
    }
   ],
   "source": [
    "Grp4 = res_Q3B[res_Q3B['numOfGames'] >= 40]\n",
    "Grp4TrueAlpha = true_alpha.iloc[Grp4.index - 1]['alpha']\n",
    "Grp4EstAlpha = res_Q1.iloc[Grp4.index - 1]['estimated alpha']\n",
    "Grp4RMSE = np.sqrt((1 / Grp4EstAlpha.count()) * np.sum((Grp4EstAlpha - Grp4TrueAlpha)**2))\n",
    "Grp4RMSE"
   ]
  },
  {
   "cell_type": "markdown",
   "metadata": {},
   "source": [
    "## Question 4"
   ]
  },
  {
   "cell_type": "markdown",
   "metadata": {},
   "source": [
    "Now let's try to learn about player's abilities using a Bayesian approach. We will use the following model:\n",
    "$$\n",
    "\\begin{aligned}\n",
    "{\\rm Pr}(Y_{ij}=1|\\alpha_i) & = \\frac{ \\exp(\\alpha_i)}{ 1.0 + \\exp(\\alpha_i)}, \\qquad j=1,\\dots,N_i;~i=1,\\dots,N, \\\\\n",
    "\\alpha_i|\\mu,\\sigma & \\sim {\\rm N}(\\mu,\\sigma^2), \\qquad i=1,\\dots,N,\\\\\n",
    "\\mu & \\sim {\\rm N}(0,5^2), \\\\\n",
    "\\sigma & \\sim {\\rm Cauchy}_+ (0,2.5).\n",
    "\\end{aligned}\n",
    "$$"
   ]
  },
  {
   "cell_type": "markdown",
   "metadata": {},
   "source": [
    "The parameters of the model are $\\lbrace \\alpha_i \\rbrace_{i=1}^N,\\mu,\\sigma$ with $\\mu$ being the overall mean ability and $\\sigma$ determining the dispersion - and the amount of shrinkage applied to the $\\alpha_i$'s towards $\\mu$.\n",
    "\n",
    "This model has been coded in the probabilistic language **Stan**  (see the model file `MLM_binomial.stan`). The model has already been trained - you do NOT need to re-train it for this assignment (although you can if you want - the script that was used to train the model is `run_stan.r`). The file `thetaDrawsM1.csv` contains the results. This file has three columns and 3,000,000 rows. The rows are 2,000 random draws from the posterior of each player's ability $\\alpha_i$ (so 2,000*1,500 = 3 million in total). The first column is index for each draw (1 to 2000), then player index and finally the value of $\\alpha_i$ for that draw."
   ]
  },
  {
   "cell_type": "markdown",
   "metadata": {},
   "source": [
    "### A\n",
    "\n",
    "Calculate the posterior expectation of each $\\alpha_i$ (hint: just take the average of the draws for each player) and find the top 10 worst players according to the posterior expectation of ability. Do you get the same 10 players as in Question 1?"
   ]
  },
  {
   "cell_type": "code",
   "execution_count": 10,
   "metadata": {},
   "outputs": [],
   "source": [
    "#Code Here\n",
    "# effe"
   ]
  },
  {
   "cell_type": "code",
   "execution_count": 11,
   "metadata": {},
   "outputs": [],
   "source": [
    "#Explanation Here"
   ]
  },
  {
   "cell_type": "markdown",
   "metadata": {},
   "source": [
    "### B\n",
    "\n",
    "Now find the top 10 best players according to their posterior expected ability."
   ]
  },
  {
   "cell_type": "code",
   "execution_count": 12,
   "metadata": {},
   "outputs": [],
   "source": [
    "#Code Here"
   ]
  },
  {
   "cell_type": "markdown",
   "metadata": {},
   "source": [
    "### C \n",
    "What happened to the \"problem\" player 499 from Question 2? What is the position of player 499 in terms of posterior expectation? Can you explain this player's new position? (Recall that this player had a perfect 100% win percentage - why is she not the number 1 player in the Bayes analysis?)"
   ]
  },
  {
   "cell_type": "code",
   "execution_count": 13,
   "metadata": {},
   "outputs": [],
   "source": [
    "#Code Here"
   ]
  },
  {
   "cell_type": "code",
   "execution_count": 14,
   "metadata": {},
   "outputs": [],
   "source": [
    "#Explanation Here"
   ]
  },
  {
   "cell_type": "markdown",
   "metadata": {},
   "source": [
    "### D\n",
    "\n",
    "Plot the Bayes estimates and the ad-hoc estimates $\\hat \\alpha_i$ on the Y-axis in a scatter plot with the true $\\alpha_i$ on the X-axis (with two different colors for the two estimates so you can tell them apart). Which do you prefer?"
   ]
  },
  {
   "cell_type": "code",
   "execution_count": 15,
   "metadata": {},
   "outputs": [],
   "source": [
    "#Code Here"
   ]
  },
  {
   "cell_type": "code",
   "execution_count": 16,
   "metadata": {},
   "outputs": [],
   "source": [
    "#Answer/Explanation Here"
   ]
  },
  {
   "cell_type": "markdown",
   "metadata": {},
   "source": [
    "### E\n",
    "\n",
    "Calculate the overall RSME and the RMSE for each of the four observation count groups for the Bayes estimates. How do they compare to the RMSE for the ad-hoc estimates?"
   ]
  },
  {
   "cell_type": "code",
   "execution_count": 17,
   "metadata": {},
   "outputs": [],
   "source": [
    "#Code here"
   ]
  },
  {
   "cell_type": "code",
   "execution_count": 18,
   "metadata": {},
   "outputs": [],
   "source": [
    "#Code Here"
   ]
  },
  {
   "cell_type": "code",
   "execution_count": 19,
   "metadata": {},
   "outputs": [],
   "source": [
    "#Explanation Here"
   ]
  }
 ],
 "metadata": {
  "kernelspec": {
   "display_name": "Python 3",
   "language": "python",
   "name": "python3"
  },
  "language_info": {
   "codemirror_mode": {
    "name": "ipython",
    "version": 3
   },
   "file_extension": ".py",
   "mimetype": "text/x-python",
   "name": "python",
   "nbconvert_exporter": "python",
   "pygments_lexer": "ipython3",
   "version": "3.10.2"
  }
 },
 "nbformat": 4,
 "nbformat_minor": 4
}
