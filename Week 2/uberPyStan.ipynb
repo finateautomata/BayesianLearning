{
 "cells": [
  {
   "cell_type": "code",
   "execution_count": 1,
   "id": "ff445541",
   "metadata": {},
   "outputs": [
    {
     "ename": "ModuleNotFoundError",
     "evalue": "No module named 'stan'",
     "output_type": "error",
     "traceback": [
      "\u001b[0;31m---------------------------------------------------------------------------\u001b[0m",
      "\u001b[0;31mModuleNotFoundError\u001b[0m                       Traceback (most recent call last)",
      "\u001b[1;32m/Users/feiteng/Library/Mobile Documents/com~apple~CloudDocs/UCSD MFin/2022 Spring/Bayesian Learning/Week 2/uberPyStan.ipynb Cell 1'\u001b[0m in \u001b[0;36m<module>\u001b[0;34m\u001b[0m\n\u001b[0;32m----> <a href='vscode-notebook-cell:/Users/feiteng/Library/Mobile%20Documents/com~apple~CloudDocs/UCSD%20MFin/2022%20Spring/Bayesian%20Learning/Week%202/uberPyStan.ipynb#ch0000000?line=0'>1</a>\u001b[0m \u001b[39mimport\u001b[39;00m \u001b[39mstan\u001b[39;00m\n\u001b[1;32m      <a href='vscode-notebook-cell:/Users/feiteng/Library/Mobile%20Documents/com~apple~CloudDocs/UCSD%20MFin/2022%20Spring/Bayesian%20Learning/Week%202/uberPyStan.ipynb#ch0000000?line=1'>2</a>\u001b[0m \u001b[39mimport\u001b[39;00m \u001b[39mpandas\u001b[39;00m \u001b[39mas\u001b[39;00m \u001b[39mpd\u001b[39;00m\n\u001b[1;32m      <a href='vscode-notebook-cell:/Users/feiteng/Library/Mobile%20Documents/com~apple~CloudDocs/UCSD%20MFin/2022%20Spring/Bayesian%20Learning/Week%202/uberPyStan.ipynb#ch0000000?line=2'>3</a>\u001b[0m \u001b[39mimport\u001b[39;00m \u001b[39mnumpy\u001b[39;00m \u001b[39mas\u001b[39;00m \u001b[39mnp\u001b[39;00m\n",
      "\u001b[0;31mModuleNotFoundError\u001b[0m: No module named 'stan'"
     ]
    }
   ],
   "source": [
    "import stan\n",
    "import pandas as pd\n",
    "import numpy as np\n",
    "import nest_asyncio\n",
    "nest_asyncio.apply()"
   ]
  },
  {
   "cell_type": "code",
   "execution_count": null,
   "id": "d6da67e4",
   "metadata": {},
   "outputs": [],
   "source": [
    "# import data and add new columns\n",
    "df = pd.read_csv('../data/uberRides.csv')\n",
    "df['amount'] = df.amount.abs()\n",
    "df['logAmount'] = np.log(df.amount)\n"
   ]
  },
  {
   "cell_type": "code",
   "execution_count": null,
   "id": "83c939e0",
   "metadata": {},
   "outputs": [],
   "source": [
    "# filter data: only keep users with at least minTrips trips\n",
    "minTrips = 3\n",
    "\n",
    "nTripsUser = df['userId'].value_counts().reset_index().rename(columns={'userId':'nTrips','index':'userId'})\n",
    "nTripsUser = nTripsUser[nTripsUser.nTrips >= minTrips].reset_index()\n",
    "nTripsUser['userIndex'] = nTripsUser.index + 1\n",
    "\n",
    "dfIncl = df.merge(nTripsUser,on = \"userId\", how = 'inner')\n",
    "\n",
    "nObs = dfIncl.shape[0]\n",
    "nUsers = nTripsUser.shape[0]\n",
    "\n",
    "dfIncl = dfIncl.astype({col: 'int32' for col in dfIncl.select_dtypes('int64').columns})"
   ]
  },
  {
   "cell_type": "code",
   "execution_count": null,
   "id": "eaf6742d",
   "metadata": {},
   "outputs": [],
   "source": [
    "dfIncl.userIndex.values"
   ]
  },
  {
   "cell_type": "code",
   "execution_count": null,
   "id": "2c358eef",
   "metadata": {},
   "outputs": [],
   "source": [
    "# create data dictionary for stan model\n",
    "model_data = {'nObs': nObs,\n",
    "              'nUsers': nUsers,\n",
    "              'userID': dfIncl.userIndex.values,\n",
    "              'y': dfIncl.logAmount.values}\n"
   ]
  },
  {
   "cell_type": "code",
   "execution_count": null,
   "id": "e3e6821e",
   "metadata": {},
   "outputs": [],
   "source": [
    "dfIncl.userIndex.values"
   ]
  },
  {
   "cell_type": "code",
   "execution_count": null,
   "id": "e3fb5776",
   "metadata": {},
   "outputs": [],
   "source": [
    "model_code = \"\"\"\n",
    "data {\n",
    "  int<lower=0> nObs;                         // number of rows in full data \n",
    "  int<lower=0> nUsers;                       // number of users\n",
    "  int<lower=1,upper=nUsers> userID[nObs];                 // user index for each row\n",
    "  vector[nObs] y;                   // log amount\n",
    "}\n",
    "\n",
    "parameters {\n",
    "  real<lower=0> sigma;         // sd alpha\n",
    "  real mu;                     // mean alpha\n",
    "  vector[nUsers] alpha;        // user effects\n",
    "  real<lower=0> sigma_y;       // sd data\n",
    "}\n",
    "\n",
    "model {\n",
    "  sigma ~ cauchy(0, 2.5);\n",
    "  mu ~ normal(0,5);\n",
    "  alpha ~ normal(mu, sigma);\n",
    "  sigma_y ~ cauchy(0, 2.5);\n",
    "\n",
    "  y ~ normal(alpha[userID], sigma_y);\n",
    "}\n",
    "\"\"\""
   ]
  },
  {
   "cell_type": "code",
   "execution_count": null,
   "id": "f7e3b8a6",
   "metadata": {},
   "outputs": [],
   "source": [
    "# compile stan model\n",
    "theModel = stan.build(model_code, data=model_data)"
   ]
  },
  {
   "cell_type": "code",
   "execution_count": null,
   "id": "53e6ab48",
   "metadata": {},
   "outputs": [],
   "source": [
    "fit = theModel.sample(num_chains=4, num_samples=1000)"
   ]
  },
  {
   "cell_type": "code",
   "execution_count": null,
   "id": "448d123b",
   "metadata": {},
   "outputs": [],
   "source": [
    "mcmcAlpha = pd.DataFrame(fit['alpha'])"
   ]
  },
  {
   "cell_type": "code",
   "execution_count": null,
   "id": "8f2e3f7e",
   "metadata": {},
   "outputs": [],
   "source": [
    "alphaMean = mcmcAlpha.mean(axis=1) # get posterior mean of alpha"
   ]
  },
  {
   "cell_type": "code",
   "execution_count": null,
   "id": "382c1977",
   "metadata": {},
   "outputs": [],
   "source": [
    "muMean = fit['mu'].mean() # get posterior mean of mu"
   ]
  },
  {
   "cell_type": "code",
   "execution_count": null,
   "id": "a1f0e594",
   "metadata": {},
   "outputs": [],
   "source": []
  }
 ],
 "metadata": {
  "kernelspec": {
   "display_name": "Python 3",
   "language": "python",
   "name": "python3"
  },
  "language_info": {
   "codemirror_mode": {
    "name": "ipython",
    "version": 3
   },
   "file_extension": ".py",
   "mimetype": "text/x-python",
   "name": "python",
   "nbconvert_exporter": "python",
   "pygments_lexer": "ipython3",
   "version": "3.10.2"
  }
 },
 "nbformat": 4,
 "nbformat_minor": 5
}
